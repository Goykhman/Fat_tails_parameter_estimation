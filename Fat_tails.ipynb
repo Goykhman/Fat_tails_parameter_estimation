{
 "cells": [
  {
   "cell_type": "markdown",
   "metadata": {},
   "source": [
    "The purpose of this notebook is to discuss parameter estimation of fat-tailed probability distributions. Specifically, we want to focus on arguing that the fat-tailed probability distributions are not 'unknowable', and one can estimate their paramaters by choosing well-defined observables and measuring their values.\n",
    "\n",
    "As a concrete example we will be dealing with the Cauchy distribution. The Cauchy distribution is known in physics as the Breit-Wigner distribution, and it describes resonance of a given energy and life-time. \n",
    "\n",
    "Interestingly, it does not have a well-defined mean: it is so much 'fat-tailed' that it does not decay fast enough in the asymptotic region *even* for the mean value integral to converge. Similarly, the higher moments (defining dispersion, etc.) of the Cauchy/Breit-Wigner distribution are undefined as well.\n",
    "\n",
    "The question then arises how should one estimate parameters (e.g., the energy and the life-time of the resonance) of the Cauchy (Breit-Wigner) distribution. Since we know that the mean, dispersion, and higher moments are not good observables for fat-tailed distributions in general, we should *not* be measuring the values of those ill-defined observables from the samples, and we should not be attempting to estimate paremeters of the distribution from those values. Indeed, central limit theorem will *not* ensure that such sample means would be good estimates of the parameters of the distribution. That is, the accuracy of the estimate will not be controlled by the size of the sample.\n",
    "\n",
    "However one can easily demonstrate that by carrying out simple change of variables one can re-define Cauchy distribution in terms of a different distribution with well-defined mean and standard deviation, which allows one to calculate parameters of the Cauchy distribution, and compare them with the corresponding experimentally measureed sample values. This is what we will demonstrate explicitly in this notebook.\n",
    "\n",
    "In other words, one can define well-defined observables, which have finite expectation values. Therefore due to the central-limit theorem measurement of those observables will allow us to have a good estimate of parameters of the underlying probability distribution, which becomes more and more sharp as the sample size increases. This is physically important, because parameters of the probability distribution usually have physical meaning (such as observable energy and life-time in case of the Breit-Wigner distribution), and therefore should be measurable in principle.\n",
    "\n",
    "We will consider an example in which the change of variables results in a different \"fat-tailed\" power-law distribution, which decays faster in the asymptotic region, thereby allowing calculation of the mean and standard deviation. This is by no means the only possible change of variables but simply an example used for illustration purposes (one could have equally well obtained exponentially decaying probability distribution, in which case *all* of the moments would be well-defined, not only the first few)."
   ]
  },
  {
   "cell_type": "markdown",
   "metadata": {},
   "source": [
    "Begin by importing the necessary libraries"
   ]
  },
  {
   "cell_type": "code",
   "execution_count": 1,
   "metadata": {
    "collapsed": true
   },
   "outputs": [],
   "source": [
    "import numpy as np\n",
    "import scipy.integrate as integrate\n",
    "import matplotlib.pyplot as plt"
   ]
  },
  {
   "cell_type": "markdown",
   "metadata": {},
   "source": [
    "Using numpy library we can generate pseudo-random variable $y$ with the Cauchy distribution $$f(y\\,|\\,x_0=0,\\gamma=1) = \\frac{1}{\\pi}\\frac{1}{y^2 + 1}.$$ Then another random variable $x$ defined as $x = x_0+\\gamma\\, y$ satisfies general Cauchy distribution $$f(x\\,|\\,x_0,\\gamma) = \\frac{\\gamma}{\\pi}\\frac{1}{(x-x_0)^2 + \\gamma^2}.$$\n",
    "\n",
    "Let us define the corresponding Python function which returns pseudo-random variable with a general Cauchy distribution with parameters $x_0, \\gamma$ as"
   ]
  },
  {
   "cell_type": "code",
   "execution_count": 2,
   "metadata": {
    "collapsed": true
   },
   "outputs": [],
   "source": [
    "def cauchyDistribution(x0, gamma):\n",
    "    return x0 + gamma * np.random.standard_cauchy()"
   ]
  },
  {
   "cell_type": "markdown",
   "metadata": {},
   "source": [
    "If random variable $x\\in (-\\infty,\\infty)$ has Cauchy distribution with parameters $x_0, \\gamma$, let us define a new random variable $z=|x|^{1/4} \\in [0,\\infty)$. A standard calculation gives its probability distribution as\n",
    "$$g(z)=\\frac{4\\gamma}{\\pi}\\,z^3\\,\\left(\\frac{1}{(z^4-x_0)^2+\\gamma^2}+\\frac{1}{(z^4+x_0)^2+\\gamma^2}\\right)\\,.$$\n",
    "Notice that $z$ has well-defined mean and standard deviation. In fact, the first three moments of this distribution are well-defined:\n",
    "$$\\langle z^n \\rangle = \\int _0^\\infty dz\\, g(z)\\,z^n\\,,\\qquad n \\leq 3\\,.$$\n",
    "We can demonstrate this nice behavior explicitly. First of all define the function which numerlcally calculates the moments of the distribution:"
   ]
  },
  {
   "cell_type": "code",
   "execution_count": 3,
   "metadata": {},
   "outputs": [],
   "source": [
    "def moment(n):\n",
    "    return integrate.quad(lambda z: 4 * (gamma / np.pi) * z ** (n + 3) * (1 / ((z ** 4 - x0) ** 2 + gamma ** 2) + 1 / ((z ** 4 + x0) ** 2 + gamma ** 2)), 0, 1000)"
   ]
  },
  {
   "cell_type": "markdown",
   "metadata": {},
   "source": [
    "Let us first pick some parameters of the Cauchy distribution"
   ]
  },
  {
   "cell_type": "code",
   "execution_count": 4,
   "metadata": {
    "collapsed": true
   },
   "outputs": [],
   "source": [
    "x0 = 2.34\n",
    "gamma= 5.67"
   ]
  },
  {
   "cell_type": "markdown",
   "metadata": {},
   "source": [
    "We will store the first two moments (the mean and the mean of the squared random variable) in the arrays:"
   ]
  },
  {
   "cell_type": "code",
   "execution_count": 5,
   "metadata": {
    "collapsed": true
   },
   "outputs": [],
   "source": [
    "means = []\n",
    "secondMoments = []"
   ]
  },
  {
   "cell_type": "markdown",
   "metadata": {},
   "source": [
    "Let us collect 100 values of the first two moments, where each pair of moments is calculated for sample of 100000 entries. Notice that we sample $x$ from the Cauchy distribution with the given parameters $x_0,\\gamma$ but store the values of \n",
    "$$z=x^{1/4}\\,,\\qquad z^2=x^{1/2}$$"
   ]
  },
  {
   "cell_type": "code",
   "execution_count": 6,
   "metadata": {},
   "outputs": [],
   "source": [
    "for _ in range(100):\n",
    "    s1 = []\n",
    "    s2 = []\n",
    "    for _ in range(100000):\n",
    "        d = abs(cauchyDistribution(x0,gamma))\n",
    "        s1 += [d ** 0.25]\n",
    "        s2 += [d ** 0.5]\n",
    "    means += [np.mean(s1)]\n",
    "    secondMoments += [np.mean(s2)]"
   ]
  },
  {
   "cell_type": "markdown",
   "metadata": {},
   "source": [
    "Notice that since the mean and standard deviation of $z$ are well-defined, their estimates are converging well, as expected due to the central limit theorem. Let's plot those sample values explicitly"
   ]
  },
  {
   "cell_type": "code",
   "execution_count": 7,
   "metadata": {},
   "outputs": [
    {
     "data": {
      "image/png": "[encoded data removed]",
      "text/plain": [
       "<Figure size 432x288 with 1 Axes>"
      ]
     },
     "metadata": {},
     "output_type": "display_data"
    }
   ],
   "source": [
    "plt.hist(means,bins=50)\n",
    "plt.show()"
   ]
  },
  {
   "cell_type": "code",
   "execution_count": 8,
   "metadata": {},
   "outputs": [
    {
     "data": {
      "image/png": "[encoded data removed]",
      "text/plain": [
       "<Figure size 432x288 with 1 Axes>"
      ]
     },
     "metadata": {},
     "output_type": "display_data"
    }
   ],
   "source": [
    "plt.hist(secondMoments,bins=50)\n",
    "plt.show()"
   ]
  },
  {
   "cell_type": "markdown",
   "metadata": {},
   "source": [
    "The estimates themselves are given by"
   ]
  },
  {
   "cell_type": "code",
   "execution_count": 9,
   "metadata": {},
   "outputs": [
    {
     "name": "stdout",
     "output_type": "stream",
     "text": [
      "Mean = 1.6950896284, Second Moment = 3.43683342424\n"
     ]
    }
   ],
   "source": [
    "print \"Mean = {}, Second Moment = {}\".format(np.mean(means), np.mean(secondMoments))"
   ]
  },
  {
   "cell_type": "markdown",
   "metadata": {},
   "source": [
    "Notice that these agree very well with their analytical values"
   ]
  },
  {
   "cell_type": "code",
   "execution_count": 10,
   "metadata": {},
   "outputs": [
    {
     "name": "stdout",
     "output_type": "stream",
     "text": [
      "Analytical Mean = 1.69525881468, Analytical Second Moment = 3.43567048915\n"
     ]
    }
   ],
   "source": [
    "print \"Analytical Mean = {}, Analytical Second Moment = {}\".format(moment(1)[0], moment(2)[0])"
   ]
  }
 ],
 "metadata": {
  "kernelspec": {
   "display_name": "Python 2",
   "language": "python",
   "name": "python2"
  },
  "language_info": {
   "codemirror_mode": {
    "name": "ipython",
    "version": 2
   },
   "file_extension": ".py",
   "mimetype": "text/x-python",
   "name": "python",
   "nbconvert_exporter": "python",
   "pygments_lexer": "ipython2",
   "version": "2.7.3"
  }
 },
 "nbformat": 4,
 "nbformat_minor": 2
}
